{
 "cells": [
  {
   "cell_type": "markdown",
   "metadata": {},
   "source": [
    "# DTSA 5510 Unsupervised Algorithms in Machine Learning Final Project\n",
    "\n",
    "Location of this project: https://github.com/NikoKuu/unsupervised-algorithms-in-ml-final\n",
    "\n",
    "## Project Topic ##\n",
    "This work is the final project for DTSA 5510 Unsupervised Algorithms in Machine Learning course. The objective is to demonstrate how to use unsupervised learning methods, including data cleaning and eploratory data analysis (EDA). \n",
    "\n",
    "A dataset of Amazon webstore item descriptions was selected from Kaggle by Pavlo Mospan.\n",
    "\n",
    "Amazon Advertisements, Pavlo Mospan 2019. Available at: https://www.kaggle.com/datasets/sachsene/amazons-advertisements/data. \n",
    "\n",
    "The plan is to clean up the data, vectorize the text descriptions of each item and use unsupervised learning methods to categorize the data. The actual categories of each item are known so supervised learning methods can also be used as a comparison to unsupervised.  \n",
    "\n",
    "\n",
    "## Data ##\n",
    "The data set consists of 525 csv-files in different levels of categories, totaling more than three million items with description. There are about 20 main categories and up to two additional nested categories. The main focus of this work is to cluster the items based on the description text mainly focusing on the main category. \n",
    "\n",
    "Some of the text descriptions are very short and frankly impossible to categorize, such as a one-word text of the product part number. The text data also has a lot of numerical values for product dimensions or package quantity. A few methods to handle the numerical values were experimented. \n",
    "\n",
    "## Data Cleaning ##\n",
    "\n",
    "#### Load most of the required modules"
   ]
  },
  {
   "cell_type": "code",
   "execution_count": 1,
   "metadata": {},
   "outputs": [],
   "source": [
    "import pandas as pd\n",
    "import numpy as np\n",
    "import seaborn as sns\n",
    "import matplotlib.pyplot as plt\n",
    "import os\n",
    "import re\n",
    "import string\n",
    "from sklearn.feature_extraction.text import TfidfVectorizer\n",
    "from sklearn.decomposition import NMF\n",
    "from sklearn.metrics import confusion_matrix, ConfusionMatrixDisplay, accuracy_score, f1_score, precision_score, recall_score, RocCurveDisplay, roc_auc_score\n",
    "%matplotlib inline"
   ]
  },
  {
   "cell_type": "markdown",
   "metadata": {},
   "source": [
    "#### Collect data\n",
    "\n",
    "Accuracy measurement will be conducted to verify the performance of the model(s). However, the large number of main categories (over 20) makes label permutation to find optimal labels infeasible. \n",
    "\n",
    "$permutations = \\frac{n!}{(n-r)!}$, where n is the total number of elements and r is the number of elements chosen.\n",
    "\n",
    "In this case, $n=r$, and if we have $n=20$, we would have $20!\\approx2.43e18$ permutations.\n",
    "\n",
    "The number of main categories is thus reduced by making the following changes and corrections:\n",
    "* Combine boys', girls', men's and women's fashion into one main category: fashion.\n",
    "    * Boys', girls', men's and women's will be a sublabel.\n",
    "* Move items in \"home kitchen\" category to main category \"home\" and subcategory \"kitchen\".\n",
    "    * There already were some items in the home/kitchen -category.\n",
    "* Move items in main category industrial/scientific category to common main category \"industrial scientific\".\n",
    "    * There already were items in the \"industrial scientific\" -category.\n",
    "* \"Computers\" moved under \"electronics\" main category\n",
    "* \"Smart home\" moved under \"electronics\" main category\n",
    "* Fix typo in 'sports'\n",
    "    * No effect on the categories\n",
    "\n",
    "With the modifications mentioned above, the number of main categories is down to 14 and number of permutations is $14!\\approx8.7e10$."
   ]
  },
  {
   "cell_type": "code",
   "execution_count": 126,
   "metadata": {},
   "outputs": [],
   "source": [
    "class amz_data:\n",
    "    def __init__(self):\n",
    "        self.id = 0\n",
    "        self.df = pd.DataFrame()\n",
    "        self.df_cat = pd.DataFrame(columns=['full', 'main', 'sub', 'subsub', 'bottom'])\n",
    "        self.placeholder = ''#'<NUM>'\n",
    "\n",
    "    def read_data(self, basedir):\n",
    "         # https://docs.python.org/3.9/library/os.html?highlight=os%20walk\n",
    "        for root, dirs, files in os.walk(basedir):\n",
    "            #print(files)\n",
    "            for file in files:\n",
    "                path = os.path.join(root, file)\n",
    "                self.add_to_dataframe(path)\n",
    "\n",
    "    def add_to_dataframe(self, path):\n",
    "        # print(path)\n",
    "        # Too long path name. Needed to add the prefix for long path names.\n",
    "        with open(u'\\\\\\\\?\\\\' + os.path.abspath(path), 'r', encoding=\"utf8\") as f:\n",
    "            # lines = f.readlines()\n",
    "            lines = f.read().splitlines() # without the \\n in the end \n",
    "        df = pd.DataFrame(lines[1:], columns=['description'])\n",
    "        df['id'] = self.id # Assign a unique id\n",
    "        df['word_count'] = df.apply(self.count_words, axis=1)\n",
    "        df['description'] = df.apply(self.preprocess_text, axis=1)\n",
    "        categories = list(self.get_category(os.path.basename(path)))\n",
    "        df['full'] = categories[0]\n",
    "        df['main'] =  categories[1]\n",
    "        df['sub'] =  categories[2]\n",
    "        df['subsub'] =  categories[3]\n",
    "        df['bottom'] =  categories[4]\n",
    "        self.df = pd.concat([self.df, df], ignore_index=True)\n",
    "        # self.df_cat = pd.concat([self.df_cat, [self.id, self.get_category(os.path.basename(path))]], ignore_index=True)\n",
    "        self.df_cat.loc[len(self.df_cat)] = list(categories)\n",
    "        self.id = self.id + 1\n",
    "    \n",
    "    def get_category(self, file_name):\n",
    "        if 'home-kitchen' in file_name: # Home kitchen -exception\n",
    "            file_name = file_name.replace('home-kitchen', 'home_kitchen')\n",
    "        if 'industrial_scientific' in file_name: # Industrial scientific -exception\n",
    "            file_name = file_name.replace('industrial_scientific-tests-measurements', 'industrial_scientific_tests-measurements')\n",
    "            file_name = file_name.replace('industrial_scientific', 'industrial-scientific')\n",
    "        if '_computers' in file_name: # Computers -exception\n",
    "            file_name = file_name.replace('_computers', '_electronics_computers')\n",
    "        if '_smart-home' in file_name: # Smart home -exception\n",
    "            file_name = file_name.replace('_smart-home', '_electronics_smart-home')\n",
    "        if 'fan-shop' in file_name: # Fan shop -correction\n",
    "            file_name = file_name.replace('fan-shop', 'sports-outdoors_fan-shop')\n",
    "        if 'aports' in file_name: # aports -correction\n",
    "            file_name = file_name.replace('aports', 'sports')\n",
    "        category = file_name.split('.')[0]\n",
    "        cat_list = category.split('_')\n",
    "        \n",
    "        if 'fashion' in cat_list[1]: # Fashion -exception\n",
    "            cat_list.insert(2,cat_list[1].split('-')[0])\n",
    "            cat_list[1] = 'fashion'\n",
    "        cat_list = [s.replace('-', ' ') for s in cat_list]\n",
    "        \n",
    "        main = cat_list[1]\n",
    "        if len(cat_list) >= 4:\n",
    "            sub = cat_list[2]\n",
    "        else:\n",
    "            sub = None\n",
    "        if len(cat_list) >= 5:\n",
    "            subsub = cat_list[3]\n",
    "        else: \n",
    "            subsub = None\n",
    "        bottom = cat_list[-1]\n",
    "        return category.replace('amazon_',''), main, sub, subsub, bottom\n",
    "    \n",
    "    def count_words(self, row):\n",
    "        words = len(row['description'].split(' '))\n",
    "        return words\n",
    "    \n",
    "    def replace_numbers(self, row):\n",
    "        text = re.sub(r'\\d+', self.placeholder, row['description'])\n",
    "        return text\n",
    "    \n",
    "    def preprocess_text(self, row):\n",
    "        text = row['description']\n",
    "        text = text.lower().replace('mm','')\n",
    "        text = text.replace('inches','')\n",
    "        text = text.replace('inch','')\n",
    "        text = text.replace('pack','')\n",
    "        translator = str.maketrans('', '', string.punctuation + string.digits)\n",
    "        return text.translate(translator)\n",
    "\n",
    "\n",
    "# datafile = r'..\\Datasets\\Amazon Advertisements\\scrapped_data\\arts_crafts\\amazon_arts_crafts_common.csv'\n",
    "# df = pd.read_csv(datafile)\n",
    "\n",
    "amz = amz_data()\n",
    "amz.read_data(r'..\\Amazon Ads\\data')\n",
    "\n",
    "\n"
   ]
  },
  {
   "cell_type": "markdown",
   "metadata": {},
   "source": [
    "### Dataset info ###\n",
    "\n",
    "General info and five first entries are printed out below. \n",
    "\n",
    "The dataframe has over three million rows. However, it was found out that there are over 300,000 duplicated entries, and those were removed. "
   ]
  },
  {
   "cell_type": "code",
   "execution_count": 127,
   "metadata": {},
   "outputs": [
    {
     "name": "stdout",
     "output_type": "stream",
     "text": [
      "<class 'pandas.core.frame.DataFrame'>\n",
      "RangeIndex: 3318260 entries, 0 to 3318259\n",
      "Data columns (total 8 columns):\n",
      " #   Column       Dtype \n",
      "---  ------       ----- \n",
      " 0   description  object\n",
      " 1   id           int64 \n",
      " 2   word_count   int64 \n",
      " 3   full         object\n",
      " 4   main         object\n",
      " 5   sub          object\n",
      " 6   subsub       object\n",
      " 7   bottom       object\n",
      "dtypes: int64(2), object(6)\n",
      "memory usage: 202.5+ MB\n",
      "None \n",
      "\n",
      "                                         description  id  word_count  \\\n",
      "0               hisense  k ultra hd smart led tv he    0          10   \n",
      "1                vizio   k ultra hd smart led tv pe    0          11   \n",
      "2        sony xbrxeseries class hdr uhd smart led tv   0           8   \n",
      "3  tivo bolt vox tb dvr  streaming media player k...   0          17   \n",
      "\n",
      "                            full         main   sub subsub      bottom  \n",
      "0  amazon_electronics_smart-home  electronics  None   None  smart home  \n",
      "1  amazon_electronics_smart-home  electronics  None   None  smart home  \n",
      "2  amazon_electronics_smart-home  electronics  None   None  smart home  \n",
      "3  amazon_electronics_smart-home  electronics  None   None  smart home   \n",
      "\n",
      "                                               description   id  word_count  \\\n",
      "3318256  whimsical watches womens t schnauzer black lea...  524          11   \n",
      "3318257  whimsical watches womens t saint bernard black...  524          12   \n",
      "3318258  whimsical watches womens n schnauzer black lea...  524          11   \n",
      "3318259  whimsical watches womens t pixie bob cat black...  524          13   \n",
      "\n",
      "                                       full     main    sub   subsub bottom  \n",
      "3318256  amazon_women-fashion_watches_wrist  fashion  women  watches  wrist  \n",
      "3318257  amazon_women-fashion_watches_wrist  fashion  women  watches  wrist  \n",
      "3318258  amazon_women-fashion_watches_wrist  fashion  women  watches  wrist  \n",
      "3318259  amazon_women-fashion_watches_wrist  fashion  women  watches  wrist   \n",
      "\n"
     ]
    },
    {
     "name": "stderr",
     "output_type": "stream",
     "text": [
      "C:\\Users\\kuusnin\\AppData\\Local\\Packages\\PythonSoftwareFoundation.Python.3.11_qbz5n2kfra8p0\\LocalCache\\local-packages\\Python311\\site-packages\\numpy\\_core\\fromnumeric.py:84: FutureWarning: The behavior of DataFrame.sum with axis=None is deprecated, in a future version this will reduce over both axes and return a scalar. To retain the old behavior, pass axis=0 (or do not pass axis)\n",
      "  return reduction(axis=axis, out=out, **passkwargs)\n"
     ]
    },
    {
     "name": "stdout",
     "output_type": "stream",
     "text": [
      "\n",
      "Number of nan values:\n",
      " description          0\n",
      "id                   0\n",
      "word_count           0\n",
      "full                 0\n",
      "main                 0\n",
      "sub             925858\n",
      "subsub         1933084\n",
      "bottom               0\n",
      "dtype: int64\n",
      "\n",
      "Number of duplicated entries: 348496\n",
      "Drop duplicates\n",
      "Number of duplicated entries: 0\n"
     ]
    }
   ],
   "source": [
    "print(amz.df.info(),'\\n')\n",
    "print(amz.df.head(4),'\\n')\n",
    "print(amz.df.tail(4),'\\n')\n",
    "print('\\nNumber of nan values:\\n', np.sum(amz.df.isna())),'\\n'\n",
    "print('\\nNumber of duplicated entries:', np.sum(amz.df.duplicated()))\n",
    "print('Drop duplicates')\n",
    "amz.df.drop_duplicates(inplace=True)\n",
    "print('Number of duplicated entries:', np.sum(amz.df.duplicated()))\n",
    "\n"
   ]
  },
  {
   "cell_type": "markdown",
   "metadata": {},
   "source": [
    "Total of 439 item level categories were found and those are grouped into 14 main categories."
   ]
  },
  {
   "cell_type": "code",
   "execution_count": 128,
   "metadata": {},
   "outputs": [
    {
     "name": "stdout",
     "output_type": "stream",
     "text": [
      "<class 'pandas.core.frame.DataFrame'>\n",
      "Index: 525 entries, 0 to 524\n",
      "Data columns (total 5 columns):\n",
      " #   Column  Non-Null Count  Dtype \n",
      "---  ------  --------------  ----- \n",
      " 0   full    525 non-null    object\n",
      " 1   main    525 non-null    object\n",
      " 2   sub     395 non-null    object\n",
      " 3   subsub  211 non-null    object\n",
      " 4   bottom  525 non-null    object\n",
      "dtypes: object(5)\n",
      "memory usage: 24.6+ KB\n",
      "None \n",
      "\n",
      "Duplicated entries: False \n",
      "\n",
      "Number of full categories: 525\n",
      "Number of main categories: 14\n",
      "Number of sub-categories: 25\n",
      "Number of lower sub-categories: 18\n",
      "Number of most detailed categories: 439\n"
     ]
    }
   ],
   "source": [
    "print(amz.df_cat.info(), '\\n')\n",
    "print('Duplicated entries:', np.any(amz.df_cat.duplicated()), '\\n')\n",
    "print('Number of full categories:', len(pd.unique(amz.df_cat['full'])))\n",
    "print('Number of main categories:', len(pd.unique(amz.df_cat['main'])))\n",
    "print('Number of sub-categories:', len(pd.unique(amz.df_cat['sub'])))\n",
    "print('Number of lower sub-categories:', len(pd.unique(amz.df_cat['subsub'])))\n",
    "print('Number of most detailed categories:', len(pd.unique(amz.df_cat['bottom'])))"
   ]
  },
  {
   "cell_type": "markdown",
   "metadata": {},
   "source": [
    "## Exploratory Data Analysis ##"
   ]
  },
  {
   "cell_type": "markdown",
   "metadata": {},
   "source": [
    "Below a histogram of approximate word counts are plotted. The distribution looks reasonable. \n",
    "\n",
    "Also the shortest and the longest desriptions are found showing that the shortest has only one word and the longest has 186 words in them. \n",
    "\n",
    "Lastly, the box plot shows how many words each main category has. There does not seem to be significant difference in the description length between the main categories.  "
   ]
  },
  {
   "cell_type": "code",
   "execution_count": 131,
   "metadata": {},
   "outputs": [
    {
     "data": {
      "image/png": "[encoded data removed]",
      "text/plain": [
       "<Figure size 640x480 with 1 Axes>"
      ]
     },
     "metadata": {},
     "output_type": "display_data"
    },
    {
     "name": "stdout",
     "output_type": "stream",
     "text": [
      "Maximum number of words: 186\n",
      "Minimum number of words: 1\n",
      "Entry with the minimum amount of words:\n",
      " description                          bxppwjz\n",
      "id                                         0\n",
      "word_count                                 1\n",
      "full           amazon_electronics_smart-home\n",
      "main                             electronics\n",
      "sub                                     None\n",
      "subsub                                  None\n",
      "bottom                            smart home\n",
      "Name: 799, dtype: object\n"
     ]
    },
    {
     "data": {
      "image/png": "[encoded data removed]",
      "text/plain": [
       "<Figure size 1000x500 with 1 Axes>"
      ]
     },
     "metadata": {},
     "output_type": "display_data"
    }
   ],
   "source": [
    "sns.histplot(amz.df, x='word_count', binwidth=2)\n",
    "plt.show()\n",
    "print('Maximum number of words:', max(amz.df['word_count']))\n",
    "print('Minimum number of words:', min(amz.df['word_count']))\n",
    "print('Entry with the minimum amount of words:\\n', amz.df.iloc[np.argmin(amz.df['word_count'])])\n",
    "\n",
    "fig = plt.figure(figsize=(10, 5))\n",
    "sns.boxplot(amz.df, x='main', y='word_count')\n",
    "plt.xticks(rotation=90, fontsize = 10) \n",
    "plt.show()\n"
   ]
  },
  {
   "cell_type": "code",
   "execution_count": null,
   "metadata": {},
   "outputs": [],
   "source": [
    "sns.histplot(amz.df, x='bottom', binwidth=2)\n",
    "plt.xticks(rotation=90, fontsize = 10) \n",
    "plt.show()"
   ]
  },
  {
   "cell_type": "markdown",
   "metadata": {},
   "source": [
    "### Tokenization\n"
   ]
  },
  {
   "cell_type": "markdown",
   "metadata": {},
   "source": [
    "Using TF-IDF to convert the text data to numerical representation in matrix format. \n",
    "\n",
    "Acronym TF-IDF comes from Term Frequency, Inverse Document Frequency. The first part, Term Frequency, tells how many times a certain word is found in the text. The second part, inverse of Document Frequency, divides the first part by how many documents contain the word. The division lowers the score for common words that appear often, like 'the', 'of', etc. \n",
    "\n",
    "Bag of words and TF-IDF should be good choices for the text in descriptions since they usually are just a list of keywords that do not necessary form meaningful sentences.\n",
    "\n",
    "There are a few parameters to pay attention to. "
   ]
  },
  {
   "cell_type": "code",
   "execution_count": 158,
   "metadata": {},
   "outputs": [],
   "source": [
    "number_of_categories = 5\n",
    "chosen_categories = amz.df_cat.sample(number_of_categories, random_state=121)\n",
    "# chosen_categories = amz.df_cat.iloc[0:6,:]\n",
    "mask = []\n",
    "counts_train = []\n",
    "for index, cat in chosen_categories.iterrows():\n",
    "    m = amz.df['full'] == cat['full']\n",
    "    counts_train.append(sum(m))\n",
    "    mask.append(m)\n",
    "amount = min(counts_train)\n",
    "idx_all = []\n",
    "for index, cat in chosen_categories.iterrows():\n",
    "    m = amz.df['full'] == cat['full']\n",
    "    idx_all.append(np.where(m)[0][0:amount])\n",
    "    counter = 0\n",
    "    for idx, val in enumerate(m):\n",
    "        if counter >= amount:\n",
    "            m[idx] = False\n",
    "        if val:\n",
    "            counter = counter + 1\n",
    "\n",
    "    counts_train.append(sum(m))\n",
    "    mask.append(m)\n",
    "\n",
    "mask_all = np.where(np.logical_or.reduce(mask, axis=0))[0]\n",
    "\n",
    "X_train = amz.df['description'].iloc[mask_all]\n",
    "y_train = amz.df['full'].iloc[mask_all]\n",
    "\n",
    "print(X_train.info())\n",
    "print(y_train.info())\n",
    "categories_train = pd.unique(y_train)\n",
    "print('\\n' + '\\n'.join([cat+':'+str(cnt) for cat, cnt in zip(categories_train, counts_train)]))\n"
   ]
  },
  {
   "cell_type": "code",
   "execution_count": 150,
   "metadata": {},
   "outputs": [
    {
     "data": {
      "text/plain": [
       "(30736, 10000)"
      ]
     },
     "execution_count": 150,
     "metadata": {},
     "output_type": "execute_result"
    }
   ],
   "source": [
    "my_vectorizer = TfidfVectorizer(sublinear_tf=True, max_df=0.95, min_df=5, norm='l2', encoding='latin-1', ngram_range=(1, 2), stop_words=\"english\", max_features=10000)\n",
    "# my_vectorizer = TfidfVectorizer(sublinear_tf=True, max_df=0.95, min_df=5, norm='l2', encoding='latin-1', ngram_range=(1, 1), stop_words=\"english\", max_features=10000)\n",
    "# my_vectorizer = TfidfVectorizer(sublinear_tf=True, max_df=0.95, min_df=5, norm='l2', encoding='latin-1', ngram_range=(1, 1), stop_words=\"english\", max_features=10000)\n",
    "# mat = my_vectorizer.fit_transform(amz.df['description'])\n",
    "mat = my_vectorizer.fit_transform(X_train)\n",
    "mat.shape\n"
   ]
  },
  {
   "cell_type": "code",
   "execution_count": 151,
   "metadata": {},
   "outputs": [
    {
     "name": "stdout",
     "output_type": "stream",
     "text": [
      "Shape of the matrix: (30736, 10000)\n",
      "Length of ftr_names: 10000\n",
      "ftr_names: ['aa' 'aa alkaline' 'aa batteries' 'aa battery' 'aa flashlight' 'aa led'\n",
      " 'aa mini' 'aa propolymer' 'aaa' 'aaa alkaline' 'aaa batteries'\n",
      " 'aaa battery' 'aaa flashlight' 'aaa led' 'aaa mini' 'ab' 'ab solution'\n",
      " 'abby' 'abby skinny' 'abdomen' 'abdominal' 'abena' 'abetteric'\n",
      " 'abetteric womens' 'absolute' 'absolution' 'absorbency'\n",
      " 'absorbency count' 'absorbency incontinence' 'absorbency long'\n",
      " 'absorbency lxl' 'absorbency sm' 'absorbency unscented'\n",
      " 'absorbency wings' 'absorbent' 'absorbing' 'absorption' 'abvd'\n",
      " 'abvd womens' 'ac' 'ac charger' 'accessories' 'accessories compatible'\n",
      " 'accessory' 'accuchek' 'accurate' 'acdc' 'ace' 'acebeam' 'aches'\n",
      " 'achilles' 'achy' 'acid' 'acid reducer' 'acid wash' 'acne' 'activated'\n",
      " 'active' 'activities' 'activity' 'acupressure' 'acupressure mat'\n",
      " 'acupuncture' 'ada' 'adams' 'adams mens' 'adapter' 'adaptive' 'adherent'\n",
      " 'adhesive' 'adhesive bandages' 'adhesive patches' 'adidas' 'adidas mens'\n",
      " 'adidas originals' 'adidas outdoor' 'adidas performance' 'adilette'\n",
      " 'adissage' 'adizero' 'adjust' 'adjustable' 'adjustable angle'\n",
      " 'adjustable beam' 'adjustable brightness' 'adjustable buckle'\n",
      " 'adjustable flashlight' 'adjustable focus' 'adjustable head'\n",
      " 'adjustable headband' 'adjustable led' 'adjustable light'\n",
      " 'adjustable mist' 'adjustable strap' 'adjustable straps'\n",
      " 'adjustable zoom' 'adjustable zoomable' 'adored' 'adriana' 'adriano']\n"
     ]
    }
   ],
   "source": [
    "print('Shape of the matrix:', mat.shape)\n",
    "ftr_names = my_vectorizer.get_feature_names_out()\n",
    "print('Length of ftr_names:',len(ftr_names))\n",
    "print('ftr_names:', ftr_names[0:100])"
   ]
  },
  {
   "cell_type": "markdown",
   "metadata": {},
   "source": [
    "## Models ##\n",
    "\n",
    "\n",
    "### Helper functions ###"
   ]
  },
  {
   "cell_type": "code",
   "execution_count": 73,
   "metadata": {},
   "outputs": [],
   "source": [
    "from sklearn.metrics import confusion_matrix, ConfusionMatrixDisplay, accuracy_score, f1_score, precision_score, recall_score, RocCurveDisplay, roc_auc_score\n",
    "\n",
    "class calc_metrics:\n",
    "    def __init__(self, y_test, y_pred):\n",
    "        self.confusion_matrix = None\n",
    "        self.recall = None\n",
    "        self.f1_score = None\n",
    "        self.precision = None\n",
    "        self.recall = None\n",
    "        self.FNR = None\n",
    "\n",
    "        self.get_metrics(y_test, y_pred)\n",
    "\n",
    "    def get_metrics(self, y_test, y_pred):\n",
    "        conf_mat = confusion_matrix(y_test, y_pred, labels=[0,1])\n",
    "        self.confusion_matrix = pd.DataFrame(conf_mat)\n",
    "        self.accuracy = accuracy_score(y_test, y_pred)\n",
    "        self.f1_score = f1_score(y_test, y_pred)\n",
    "        self.precision = precision_score(y_test, y_pred)\n",
    "        self.recall = recall_score(y_test, y_pred)\n",
    "        self.ROC_AUC = roc_auc_score(y_test, y_pred)\n",
    "        FN = conf_mat[1][0]\n",
    "        P = np.sum(conf_mat[1])\n",
    "        self.FNR = FN/P\n",
    "        print('False Negative Rate:', round(self.FNR,3))\n",
    "        print('Accuracy:', round(self.accuracy, 3))\n",
    "        print('F1-score:', round(self.f1_score,3))\n",
    "        print('Precision:', round(self.precision,3))\n",
    "        print('Recall:', round(self.recall,3))\n",
    "        print('Area Under the Receiver Operating Characteristic Curve (ROC AUC):', round(self.ROC_AUC,3))\n",
    "        print('Confusion matrix:')\n",
    "        disp = ConfusionMatrixDisplay(conf_mat)\n",
    "        disp.plot()\n",
    "        plt.show()"
   ]
  },
  {
   "cell_type": "code",
   "execution_count": 152,
   "metadata": {},
   "outputs": [],
   "source": [
    "# myNMF = NMF(n_components=number_of_categories, solver='cd', beta_loss='frobenius',alpha_W=0.0001, alpha_H='same')\n",
    "myNMF = NMF(n_components=number_of_categories, random_state=123, init='nndsvda', solver='mu', beta_loss=\"kullback-leibler\", alpha_W=0.00005, alpha_H=0.00005, l1_ratio=0)\n",
    "# myNMF = NMF(n_components=number_of_categories)\n",
    "W = myNMF.fit_transform(mat)\n",
    "H = myNMF.components_\n",
    "\n",
    "# W_test = myNMF.transform(X_test)\n",
    "# print('Shape of W_test:', W_test.shape)"
   ]
  },
  {
   "cell_type": "code",
   "execution_count": 153,
   "metadata": {},
   "outputs": [
    {
     "name": "stdout",
     "output_type": "stream",
     "text": [
      "Shape of the matrix: (30736, 10000)\n",
      "Shape of W: (30736, 5)\n",
      "The first row of W: [7.71286321e-089 7.92803366e-002 3.97775951e-051 3.62948392e-155\n",
      " 1.42218506e-080]\n",
      "Shape of H: (5, 10000)\n",
      "The first column of H: [0.         0.17737054 0.         0.         0.        ]\n"
     ]
    }
   ],
   "source": [
    "print('Shape of the matrix:', mat.shape)\n",
    "print('Shape of W:', W.shape)\n",
    "print('The first row of W:', W[0,:])\n",
    "print('Shape of H:', H.shape)\n",
    "print('The first column of H:', H[:,0])"
   ]
  },
  {
   "cell_type": "code",
   "execution_count": 154,
   "metadata": {},
   "outputs": [
    {
     "name": "stdout",
     "output_type": "stream",
     "text": [
      "Categories:\n",
      "amazon_health-household_healthcare\n",
      "amazon_men-fashion_shoes_athletic_tennis-racquet\n",
      "amazon_men-fashion_shoes_sandals\n",
      "amazon_tools-home_hardware_flashlight\n",
      "amazon_women-fashion_clothing_jeans\n",
      "0 - ['mid rise' 'high rise' 'jeans womens' 'ankle' 'skinny jeans' 'jean'\n",
      " 'rise' 'skinny' 'jeans' 'womens']\n",
      "1 - ['bright' 'lumens' 'lumen' 'headlamp' 'camping' 'led flashlight'\n",
      " 'rechargeable' 'light' 'led' 'flashlight']\n",
      "2 - ['men' 'shoes' 'shoe' 'flip flop' 'flop' 'slide' 'flip' 'sandals' 'sandal'\n",
      " 'mens']\n",
      "3 - ['ripped' 'high waist' 'skinny' 'stretch' 'high' 'women' 'waist' 'jeans'\n",
      " 'pants' 'denim']\n",
      "4 - ['nydj womens' 'count' 'petite' 'nydj' 'plus size' 'jean' 'womens plus'\n",
      " 'plus' 'size' 'womens']\n"
     ]
    }
   ],
   "source": [
    "# Adapted from:\n",
    "# https://scikit-learn.org/stable/auto_examples/applications/plot_topics_extraction_with_nmf_lda.html\n",
    "\n",
    "def plot_top_words(H, feature_names, n_top_words):\n",
    "    for topic_idx, topic in enumerate(H):\n",
    "        top_features_ind = topic.argsort()[-n_top_words:]\n",
    "        top_features = feature_names[top_features_ind]\n",
    "        print(topic_idx, '-', top_features)\n",
    "\n",
    "print('Categories:\\n'+ '\\n'.join(pd.unique(y_train)))\n",
    "plot_top_words(H, ftr_names, 10)\n"
   ]
  },
  {
   "cell_type": "code",
   "execution_count": null,
   "metadata": {},
   "outputs": [],
   "source": [
    "# The label_permute_compare -function below was adapted from my Week 2 peer review.\n",
    "\n",
    "import itertools\n",
    "from sklearn.metrics import ConfusionMatrixDisplay\n",
    "import random\n",
    "\n",
    "\n",
    "def label_permute_compare(ytdf,yp,portion=1):\n",
    "    \"\"\"\n",
    "    ytdf: labels dataframe object\n",
    "    yp: clustering label prediction output\n",
    "    Returns permuted label order and accuracy. \n",
    "    Example output: (3, 4, 1, 2, 0), 0.74 \n",
    "    \"\"\"\n",
    "    # your code here\n",
    "    indices = random.sample(range(len(yp)), int(portion * len(yp)))\n",
    "    labels = np.unique(ytdf)\n",
    "    acc = []\n",
    "    best_accuracy = 0\n",
    "    best_labelorder = []\n",
    "    ypp = yp[indices]\n",
    "    yt_indices = range(len(labels))\n",
    "    # ytdf: from str to int\n",
    "    labels_lst = list(labels)\n",
    "    ytdfp = ytdf.iloc[indices]\n",
    "    yt_vals = np.array([labels_lst.index(yt) for yt in list(ytdfp)])\n",
    "    i = 0\n",
    "    for labelorder in itertools.permutations(np.unique(yp)):\n",
    "        # map_labels = [labels[mp] for mp in labelorder]\n",
    "        # #print(map_labels)\n",
    "        # yp_labels = [map_labels[yp[i]] for i in range(len(yp))]\n",
    "        # acc.append(sum(ytdf==yp_labels)/len(yp_labels))\n",
    "        # map_labels = [labels[mp] for mp in labelorder]\n",
    "        # yp_labels = [map_labels[label] for label in ypp]\n",
    "        # accuracy = sum(ytdfp == yp_labels) / len(yp_labels)\n",
    "\n",
    "        yp_labels = [labelorder[y] for y in ypp]\n",
    "        accuracy = sum(yt_vals == yp_labels)\n",
    "        i=i+1\n",
    "        if accuracy > best_accuracy:\n",
    "            print(i, ' - ', best_accuracy / len(yp_labels))\n",
    "            best_accuracy = accuracy\n",
    "            best_labelorder = labelorder\n",
    "    best_accuracy = best_accuracy / len(yp_labels)\n",
    "    return best_labelorder, best_accuracy\n",
    "        # acc.append(accuracy)\n",
    "    # i_max = np.argmax(acc)\n",
    "    # return labelorders[i_max], acc[i_max]\n",
    "\n",
    "def reorder_prediction(yp):\n",
    "    # Remap the predicted labels\n",
    "    ypp = [label_order[y] for y in yp]\n",
    "    return ypp\n",
    "\n",
    "yp = np.argmax(W,axis=1)\n",
    "print('yp length:',len(yp))\n",
    "label_order, best_accu = label_permute_compare(y_train, yp, 0.00001)\n",
    "print('\\nLabel order:', ' --> '.join([str(lbl) for lbl in label_order]))\n",
    "print('\\nAccuracy:', round(best_accu,4))\n",
    "\n",
    "ypp = reorder_prediction(yp)\n",
    "fig, ax = plt.subplots(figsize=(10, 5))\n",
    "ConfusionMatrixDisplay.from_predictions(y_train, ypp, ax=ax)\n",
    "plt.show()\n",
    "\n",
    "# Yhat_train = [df_cat_mapper.iloc[i,0] for i in ypp]"
   ]
  },
  {
   "cell_type": "code",
   "execution_count": null,
   "metadata": {},
   "outputs": [],
   "source": [
    "from sklearn.model_selection import train_test_split\n",
    "from sklearn import svm\n",
    "\n",
    "W_train_svm, W_test_svm, y_train_svm, y_test_svm = train_test_split(W, y_train, test_size=0.2)\n",
    "\n",
    "clf = svm.SVC(decision_function_shape='ovo')\n",
    "clf.fit(W_train_svm, y_train_svm)\n",
    "# print(W_train_svm.shape)\n",
    "yhat_test_svm = clf.predict(W_test_svm)\n",
    "print('Accuracy:', round(accuracy_score(y_test_svm, yhat_test_svm),3))\n",
    "\n",
    "fig, ax = plt.subplots(figsize=(10, 5))\n",
    "ConfusionMatrixDisplay.from_predictions(y_test_svm, yhat_test_svm, ax=ax)\n",
    "plt.show()"
   ]
  },
  {
   "cell_type": "markdown",
   "metadata": {},
   "source": [
    "### K-Means\n",
    "\n",
    "The number of clusters is known, 10 product categories selected. "
   ]
  },
  {
   "cell_type": "code",
   "execution_count": 52,
   "metadata": {},
   "outputs": [
    {
     "data": {
      "text/plain": [
       "array([9, 4, 6, 5, 8, 3, 2, 7, 1, 0], dtype=int32)"
      ]
     },
     "execution_count": 52,
     "metadata": {},
     "output_type": "execute_result"
    }
   ],
   "source": [
    "from sklearn.cluster import KMeans\n",
    "my_kmeans = KMeans(n_clusters=number_of_categories, random_state=0, n_init=\"auto\").fit(mat)\n",
    "pd.unique(my_kmeans.labels_)\n"
   ]
  },
  {
   "cell_type": "markdown",
   "metadata": {},
   "source": [
    "## Comparison with supervised methods"
   ]
  },
  {
   "cell_type": "code",
   "execution_count": null,
   "metadata": {},
   "outputs": [],
   "source": [
    "from sklearn.model_selection import train_test_split, cross_val_score, GridSearchCV\n",
    "\n",
    "print('mat.shape:', mat.shape, '\\nY_train.shape:', y_train.shape)\n",
    "X_train_clf, X_test_clf, y_train_clf, y_test_clf = train_test_split(mat, y_train, test_size=0.5, random_state=123)"
   ]
  },
  {
   "cell_type": "code",
   "execution_count": null,
   "metadata": {},
   "outputs": [],
   "source": [
    "from sklearn.svm import SVC\n",
    "\n",
    "print('\\nTry Radial Basis Function kernel:')\n",
    "SVC_grid_paras = {'C':np.logspace(-5, 5, num=11 , base=2), 'gamma':np.logspace(-5, 5, num=11 , base=2)}\n",
    "my_SVC_grid = GridSearchCV(estimator=SVC(), param_grid=SVC_grid_paras, scoring=None, n_jobs=None, refit=True, cv=5, verbose=0, pre_dispatch='2*n_jobs', return_train_score=True)\n",
    "my_SVC_grid = my_SVC_grid.fit(X_train_clf, y_train_clf) # Create the model\n",
    "print('Best parameters:', my_SVC_grid.best_params_)\n",
    "print('Validation accuracy:', my_SVC_grid.best_score_)\n",
    "my_SVC = my_SVC_grid.best_estimator_ # Save the best model\n",
    "y_hat_SVC = my_SVC.predict(X_test_clf)\n",
    "# calc_metrics(y_test_clf, y_hat_SVC) # calculate metrics"
   ]
  },
  {
   "cell_type": "code",
   "execution_count": null,
   "metadata": {},
   "outputs": [],
   "source": [
    "from sklearn.ensemble import RandomForestClassifier\n",
    "\n",
    "RF_grid_paras = {'n_estimators': [10,100,500], 'min_samples_split': [2,3,4], 'min_samples_leaf': [1,2,3]}\n",
    "my_RF_grid = GridSearchCV(RandomForestClassifier(), param_grid=RF_grid_paras, scoring=None, n_jobs=None, refit=True, cv=5, verbose=0, pre_dispatch='2*n_jobs', return_train_score=True)\n",
    "my_RF_grid = my_RF_grid.fit(X_train_clf, y_train_clf) # Create the model\n",
    "print('Best parameters:', my_RF_grid.best_params_)\n",
    "print('Validation accuracy:', my_RF_grid.best_score_)\n",
    "my_RF = my_RF_grid.best_estimator_ # Save the best model\n",
    "y_hat_RF = my_RF.predict(X_test_clf)\n",
    "# calc_metrics(y_test_clf, y_hat_SVC) # calculate metrics"
   ]
  },
  {
   "cell_type": "code",
   "execution_count": null,
   "metadata": {},
   "outputs": [],
   "source": [
    "from sklearn.ensemble import RandomForestClassifier\n",
    "\n",
    "my_RF = RandomForestClassifier().fit(X_train_clf, y_train_clf) # Create the model\n",
    "y_hat_RF = my_RF.predict(X_test_clf)\n",
    "\n",
    "accuracy_score(y_test_clf, y_hat_RF)"
   ]
  },
  {
   "cell_type": "markdown",
   "metadata": {},
   "source": [
    "\n",
    "## Discussion and conclusion ##\n",
    "\n",
    "\n",
    "### Training time ###\n",
    "\n",
    "\n",
    "### Additional improvements\n",
    "\n"
   ]
  }
 ],
 "metadata": {
  "kernelspec": {
   "display_name": "Python 3",
   "language": "python",
   "name": "python3"
  },
  "language_info": {
   "codemirror_mode": {
    "name": "ipython",
    "version": 3
   },
   "file_extension": ".py",
   "mimetype": "text/x-python",
   "name": "python",
   "nbconvert_exporter": "python",
   "pygments_lexer": "ipython3",
   "version": "3.11.9"
  }
 },
 "nbformat": 4,
 "nbformat_minor": 2
}
